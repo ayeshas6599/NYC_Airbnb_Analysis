{
 "cells": [
  {
   "cell_type": "markdown",
   "metadata": {},
   "source": [
    "# Airbnb analysis: NYC \n",
    "### Ayesha Siddiqua - CalTech Data Analytics certificate program"
   ]
  },
  {
   "cell_type": "markdown",
   "metadata": {},
   "source": [
    "### Objective: To understand and analyze the data in order to provide insightful information."
   ]
  },
  {
   "cell_type": "markdown",
   "metadata": {},
   "source": [
    "### EDA using python:"
   ]
  },
  {
   "cell_type": "code",
   "execution_count": 1,
   "metadata": {},
   "outputs": [],
   "source": [
    "#Importing modules\n",
    "import pandas as pd\n",
    "import numpy as np\n",
    "import matplotlib.pyplot as plt\n",
    "import seaborn as sns"
   ]
  },
  {
   "cell_type": "code",
   "execution_count": 2,
   "metadata": {},
   "outputs": [],
   "source": [
    "#Read the data\n",
    "data = pd.read_csv(\"Airbnb.csv\")"
   ]
  },
  {
   "cell_type": "code",
   "execution_count": 3,
   "metadata": {},
   "outputs": [
    {
     "data": {
      "text/html": [
       "<div>\n",
       "<style scoped>\n",
       "    .dataframe tbody tr th:only-of-type {\n",
       "        vertical-align: middle;\n",
       "    }\n",
       "\n",
       "    .dataframe tbody tr th {\n",
       "        vertical-align: top;\n",
       "    }\n",
       "\n",
       "    .dataframe thead th {\n",
       "        text-align: right;\n",
       "    }\n",
       "</style>\n",
       "<table border=\"1\" class=\"dataframe\">\n",
       "  <thead>\n",
       "    <tr style=\"text-align: right;\">\n",
       "      <th></th>\n",
       "      <th>Unnamed: 0</th>\n",
       "      <th>id</th>\n",
       "      <th>name</th>\n",
       "      <th>host_id</th>\n",
       "      <th>host_name</th>\n",
       "      <th>borough</th>\n",
       "      <th>neighbourhood</th>\n",
       "      <th>latitude</th>\n",
       "      <th>longitude</th>\n",
       "      <th>room_type</th>\n",
       "      <th>price</th>\n",
       "      <th>minimum_nights</th>\n",
       "      <th>number_of_reviews</th>\n",
       "      <th>last_review</th>\n",
       "      <th>reviews_per_month</th>\n",
       "      <th>calculated_host_listings_count</th>\n",
       "      <th>availability_365</th>\n",
       "    </tr>\n",
       "  </thead>\n",
       "  <tbody>\n",
       "    <tr>\n",
       "      <th>0</th>\n",
       "      <td>0</td>\n",
       "      <td>2539</td>\n",
       "      <td>Clean &amp; quiet apt home by the park</td>\n",
       "      <td>2787</td>\n",
       "      <td>John</td>\n",
       "      <td>Brooklyn</td>\n",
       "      <td>kensington</td>\n",
       "      <td>40.64749</td>\n",
       "      <td>-73.97237</td>\n",
       "      <td>Private room</td>\n",
       "      <td>149.0</td>\n",
       "      <td>1.0</td>\n",
       "      <td>9.0</td>\n",
       "      <td>10/19/18</td>\n",
       "      <td>0.21</td>\n",
       "      <td>6.0</td>\n",
       "      <td>365.0</td>\n",
       "    </tr>\n",
       "    <tr>\n",
       "      <th>1</th>\n",
       "      <td>1</td>\n",
       "      <td>2595</td>\n",
       "      <td>Skylit Midtown Castle</td>\n",
       "      <td>2845</td>\n",
       "      <td>Jennifer</td>\n",
       "      <td>Manhattan</td>\n",
       "      <td>midtown</td>\n",
       "      <td>40.75362</td>\n",
       "      <td>-73.98377</td>\n",
       "      <td>Entire home/apt</td>\n",
       "      <td>225.0</td>\n",
       "      <td>1.0</td>\n",
       "      <td>NaN</td>\n",
       "      <td>5/21/19</td>\n",
       "      <td>0.38</td>\n",
       "      <td>2.0</td>\n",
       "      <td>NaN</td>\n",
       "    </tr>\n",
       "    <tr>\n",
       "      <th>2</th>\n",
       "      <td>2</td>\n",
       "      <td>3647</td>\n",
       "      <td>THE VILLAGE OF HARLEM....NEW YORK !</td>\n",
       "      <td>4632</td>\n",
       "      <td>Elisabeth</td>\n",
       "      <td>NaN</td>\n",
       "      <td>harlem</td>\n",
       "      <td>40.80902</td>\n",
       "      <td>-73.94190</td>\n",
       "      <td>Private room</td>\n",
       "      <td>150.0</td>\n",
       "      <td>3.0</td>\n",
       "      <td>0.0</td>\n",
       "      <td>NaN</td>\n",
       "      <td>NaN</td>\n",
       "      <td>1.0</td>\n",
       "      <td>365.0</td>\n",
       "    </tr>\n",
       "    <tr>\n",
       "      <th>3</th>\n",
       "      <td>3</td>\n",
       "      <td>3831</td>\n",
       "      <td>Cozy Entire Floor of Brownstone</td>\n",
       "      <td>4869</td>\n",
       "      <td>LisaRoxanne</td>\n",
       "      <td>Brooklyn</td>\n",
       "      <td>clinton hill</td>\n",
       "      <td>40.68514</td>\n",
       "      <td>-73.95976</td>\n",
       "      <td>Entire home/apt</td>\n",
       "      <td>89.0</td>\n",
       "      <td>1.0</td>\n",
       "      <td>270.0</td>\n",
       "      <td>07-05-2019</td>\n",
       "      <td>4.64</td>\n",
       "      <td>1.0</td>\n",
       "      <td>194.0</td>\n",
       "    </tr>\n",
       "    <tr>\n",
       "      <th>4</th>\n",
       "      <td>5</td>\n",
       "      <td>5099</td>\n",
       "      <td>Large Cozy 1 BR Apartment In Midtown East</td>\n",
       "      <td>7322</td>\n",
       "      <td>Chris</td>\n",
       "      <td>Manhattan</td>\n",
       "      <td>murray hill</td>\n",
       "      <td>40.74767</td>\n",
       "      <td>-73.97500</td>\n",
       "      <td>Entire home/apt</td>\n",
       "      <td>200.0</td>\n",
       "      <td>3.0</td>\n",
       "      <td>74.0</td>\n",
       "      <td>6/22/19</td>\n",
       "      <td>0.59</td>\n",
       "      <td>1.0</td>\n",
       "      <td>129.0</td>\n",
       "    </tr>\n",
       "  </tbody>\n",
       "</table>\n",
       "</div>"
      ],
      "text/plain": [
       "   Unnamed: 0    id                                       name  host_id  \\\n",
       "0           0  2539         Clean & quiet apt home by the park     2787   \n",
       "1           1  2595                      Skylit Midtown Castle     2845   \n",
       "2           2  3647        THE VILLAGE OF HARLEM....NEW YORK !     4632   \n",
       "3           3  3831            Cozy Entire Floor of Brownstone     4869   \n",
       "4           5  5099  Large Cozy 1 BR Apartment In Midtown East     7322   \n",
       "\n",
       "     host_name    borough neighbourhood  latitude  longitude        room_type  \\\n",
       "0         John   Brooklyn    kensington  40.64749  -73.97237     Private room   \n",
       "1     Jennifer  Manhattan       midtown  40.75362  -73.98377  Entire home/apt   \n",
       "2    Elisabeth        NaN        harlem  40.80902  -73.94190     Private room   \n",
       "3  LisaRoxanne   Brooklyn  clinton hill  40.68514  -73.95976  Entire home/apt   \n",
       "4        Chris  Manhattan   murray hill  40.74767  -73.97500  Entire home/apt   \n",
       "\n",
       "   price  minimum_nights  number_of_reviews last_review  reviews_per_month  \\\n",
       "0  149.0             1.0                9.0    10/19/18               0.21   \n",
       "1  225.0             1.0                NaN     5/21/19               0.38   \n",
       "2  150.0             3.0                0.0         NaN                NaN   \n",
       "3   89.0             1.0              270.0  07-05-2019               4.64   \n",
       "4  200.0             3.0               74.0     6/22/19               0.59   \n",
       "\n",
       "   calculated_host_listings_count  availability_365  \n",
       "0                             6.0             365.0  \n",
       "1                             2.0               NaN  \n",
       "2                             1.0             365.0  \n",
       "3                             1.0             194.0  \n",
       "4                             1.0             129.0  "
      ]
     },
     "execution_count": 3,
     "metadata": {},
     "output_type": "execute_result"
    }
   ],
   "source": [
    "data.head()"
   ]
  },
  {
   "cell_type": "code",
   "execution_count": 4,
   "metadata": {},
   "outputs": [
    {
     "data": {
      "text/plain": [
       "(42638, 17)"
      ]
     },
     "execution_count": 4,
     "metadata": {},
     "output_type": "execute_result"
    }
   ],
   "source": [
    "#Size of data\n",
    "data.shape"
   ]
  },
  {
   "cell_type": "markdown",
   "metadata": {},
   "source": [
    "No. of rows: 42638\n",
    "\n",
    "\n",
    "No. of Columns: 17"
   ]
  },
  {
   "cell_type": "code",
   "execution_count": 5,
   "metadata": {},
   "outputs": [
    {
     "data": {
      "text/html": [
       "<div>\n",
       "<style scoped>\n",
       "    .dataframe tbody tr th:only-of-type {\n",
       "        vertical-align: middle;\n",
       "    }\n",
       "\n",
       "    .dataframe tbody tr th {\n",
       "        vertical-align: top;\n",
       "    }\n",
       "\n",
       "    .dataframe thead th {\n",
       "        text-align: right;\n",
       "    }\n",
       "</style>\n",
       "<table border=\"1\" class=\"dataframe\">\n",
       "  <thead>\n",
       "    <tr style=\"text-align: right;\">\n",
       "      <th></th>\n",
       "      <th>Unnamed: 0</th>\n",
       "      <th>id</th>\n",
       "      <th>host_id</th>\n",
       "      <th>latitude</th>\n",
       "      <th>longitude</th>\n",
       "      <th>price</th>\n",
       "      <th>minimum_nights</th>\n",
       "      <th>number_of_reviews</th>\n",
       "      <th>reviews_per_month</th>\n",
       "      <th>calculated_host_listings_count</th>\n",
       "      <th>availability_365</th>\n",
       "    </tr>\n",
       "  </thead>\n",
       "  <tbody>\n",
       "    <tr>\n",
       "      <th>count</th>\n",
       "      <td>42638.000000</td>\n",
       "      <td>4.263800e+04</td>\n",
       "      <td>4.263800e+04</td>\n",
       "      <td>42607.000000</td>\n",
       "      <td>42609.000000</td>\n",
       "      <td>42602.000000</td>\n",
       "      <td>42604.000000</td>\n",
       "      <td>42613.000000</td>\n",
       "      <td>33902.000000</td>\n",
       "      <td>42622.000000</td>\n",
       "      <td>42596.000000</td>\n",
       "    </tr>\n",
       "    <tr>\n",
       "      <th>mean</th>\n",
       "      <td>24323.437544</td>\n",
       "      <td>1.892386e+07</td>\n",
       "      <td>6.633856e+07</td>\n",
       "      <td>40.725488</td>\n",
       "      <td>-73.949830</td>\n",
       "      <td>148.516173</td>\n",
       "      <td>6.974298</td>\n",
       "      <td>23.045080</td>\n",
       "      <td>1.346574</td>\n",
       "      <td>6.840036</td>\n",
       "      <td>111.562447</td>\n",
       "    </tr>\n",
       "    <tr>\n",
       "      <th>std</th>\n",
       "      <td>14062.225405</td>\n",
       "      <td>1.094655e+07</td>\n",
       "      <td>7.755554e+07</td>\n",
       "      <td>0.054140</td>\n",
       "      <td>0.046089</td>\n",
       "      <td>235.828980</td>\n",
       "      <td>20.295628</td>\n",
       "      <td>44.411525</td>\n",
       "      <td>1.636901</td>\n",
       "      <td>32.246048</td>\n",
       "      <td>131.392817</td>\n",
       "    </tr>\n",
       "    <tr>\n",
       "      <th>min</th>\n",
       "      <td>0.000000</td>\n",
       "      <td>2.539000e+03</td>\n",
       "      <td>2.438000e+03</td>\n",
       "      <td>40.499790</td>\n",
       "      <td>-74.244420</td>\n",
       "      <td>0.000000</td>\n",
       "      <td>1.000000</td>\n",
       "      <td>0.000000</td>\n",
       "      <td>0.010000</td>\n",
       "      <td>1.000000</td>\n",
       "      <td>0.000000</td>\n",
       "    </tr>\n",
       "    <tr>\n",
       "      <th>25%</th>\n",
       "      <td>12117.250000</td>\n",
       "      <td>9.410163e+06</td>\n",
       "      <td>7.650650e+06</td>\n",
       "      <td>40.688225</td>\n",
       "      <td>-73.979220</td>\n",
       "      <td>65.000000</td>\n",
       "      <td>1.000000</td>\n",
       "      <td>1.000000</td>\n",
       "      <td>0.190000</td>\n",
       "      <td>1.000000</td>\n",
       "      <td>0.000000</td>\n",
       "    </tr>\n",
       "    <tr>\n",
       "      <th>50%</th>\n",
       "      <td>24300.500000</td>\n",
       "      <td>1.956904e+07</td>\n",
       "      <td>3.028359e+07</td>\n",
       "      <td>40.718130</td>\n",
       "      <td>-73.954370</td>\n",
       "      <td>100.000000</td>\n",
       "      <td>3.000000</td>\n",
       "      <td>5.000000</td>\n",
       "      <td>0.690000</td>\n",
       "      <td>1.000000</td>\n",
       "      <td>42.000000</td>\n",
       "    </tr>\n",
       "    <tr>\n",
       "      <th>75%</th>\n",
       "      <td>36444.500000</td>\n",
       "      <td>2.897789e+07</td>\n",
       "      <td>1.056342e+08</td>\n",
       "      <td>40.756690</td>\n",
       "      <td>-73.933800</td>\n",
       "      <td>174.000000</td>\n",
       "      <td>5.000000</td>\n",
       "      <td>23.000000</td>\n",
       "      <td>2.000000</td>\n",
       "      <td>2.000000</td>\n",
       "      <td>224.000000</td>\n",
       "    </tr>\n",
       "    <tr>\n",
       "      <th>max</th>\n",
       "      <td>48892.000000</td>\n",
       "      <td>3.648543e+07</td>\n",
       "      <td>2.743115e+08</td>\n",
       "      <td>40.904840</td>\n",
       "      <td>-73.712990</td>\n",
       "      <td>10000.000000</td>\n",
       "      <td>1250.000000</td>\n",
       "      <td>629.000000</td>\n",
       "      <td>20.940000</td>\n",
       "      <td>327.000000</td>\n",
       "      <td>365.000000</td>\n",
       "    </tr>\n",
       "  </tbody>\n",
       "</table>\n",
       "</div>"
      ],
      "text/plain": [
       "         Unnamed: 0            id       host_id      latitude     longitude  \\\n",
       "count  42638.000000  4.263800e+04  4.263800e+04  42607.000000  42609.000000   \n",
       "mean   24323.437544  1.892386e+07  6.633856e+07     40.725488    -73.949830   \n",
       "std    14062.225405  1.094655e+07  7.755554e+07      0.054140      0.046089   \n",
       "min        0.000000  2.539000e+03  2.438000e+03     40.499790    -74.244420   \n",
       "25%    12117.250000  9.410163e+06  7.650650e+06     40.688225    -73.979220   \n",
       "50%    24300.500000  1.956904e+07  3.028359e+07     40.718130    -73.954370   \n",
       "75%    36444.500000  2.897789e+07  1.056342e+08     40.756690    -73.933800   \n",
       "max    48892.000000  3.648543e+07  2.743115e+08     40.904840    -73.712990   \n",
       "\n",
       "              price  minimum_nights  number_of_reviews  reviews_per_month  \\\n",
       "count  42602.000000    42604.000000       42613.000000       33902.000000   \n",
       "mean     148.516173        6.974298          23.045080           1.346574   \n",
       "std      235.828980       20.295628          44.411525           1.636901   \n",
       "min        0.000000        1.000000           0.000000           0.010000   \n",
       "25%       65.000000        1.000000           1.000000           0.190000   \n",
       "50%      100.000000        3.000000           5.000000           0.690000   \n",
       "75%      174.000000        5.000000          23.000000           2.000000   \n",
       "max    10000.000000     1250.000000         629.000000          20.940000   \n",
       "\n",
       "       calculated_host_listings_count  availability_365  \n",
       "count                    42622.000000      42596.000000  \n",
       "mean                         6.840036        111.562447  \n",
       "std                         32.246048        131.392817  \n",
       "min                          1.000000          0.000000  \n",
       "25%                          1.000000          0.000000  \n",
       "50%                          1.000000         42.000000  \n",
       "75%                          2.000000        224.000000  \n",
       "max                        327.000000        365.000000  "
      ]
     },
     "execution_count": 5,
     "metadata": {},
     "output_type": "execute_result"
    }
   ],
   "source": [
    "#Descriptive statistics for numerical data\n",
    "data.describe()"
   ]
  },
  {
   "cell_type": "code",
   "execution_count": 6,
   "metadata": {},
   "outputs": [],
   "source": [
    "#Dropping unnecessary columns\n",
    "data.drop(\"Unnamed: 0\", axis=1, inplace=True)\n",
    "data.drop(\"last_review\", axis=1, inplace=True)"
   ]
  },
  {
   "cell_type": "code",
   "execution_count": 7,
   "metadata": {},
   "outputs": [
    {
     "data": {
      "text/plain": [
       "Index(['id', 'name', 'host_id', 'host_name', 'borough', 'neighbourhood',\n",
       "       'latitude', 'longitude', 'room_type', 'price', 'minimum_nights',\n",
       "       'number_of_reviews', 'reviews_per_month',\n",
       "       'calculated_host_listings_count', 'availability_365'],\n",
       "      dtype='object')"
      ]
     },
     "execution_count": 7,
     "metadata": {},
     "output_type": "execute_result"
    }
   ],
   "source": [
    "data.columns"
   ]
  },
  {
   "cell_type": "code",
   "execution_count": 8,
   "metadata": {},
   "outputs": [
    {
     "data": {
      "text/plain": [
       "0"
      ]
     },
     "execution_count": 8,
     "metadata": {},
     "output_type": "execute_result"
    }
   ],
   "source": [
    "#Checking if there are any duplicated values\n",
    "np.sum(data.duplicated())"
   ]
  },
  {
   "cell_type": "markdown",
   "metadata": {},
   "source": [
    "## Handling missing values"
   ]
  },
  {
   "cell_type": "code",
   "execution_count": 9,
   "metadata": {},
   "outputs": [
    {
     "data": {
      "text/plain": [
       "id                                   0\n",
       "name                                14\n",
       "host_id                              0\n",
       "host_name                           56\n",
       "borough                             67\n",
       "neighbourhood                        0\n",
       "latitude                            31\n",
       "longitude                           29\n",
       "room_type                           86\n",
       "price                               36\n",
       "minimum_nights                      34\n",
       "number_of_reviews                   25\n",
       "reviews_per_month                 8736\n",
       "calculated_host_listings_count      16\n",
       "availability_365                    42\n",
       "dtype: int64"
      ]
     },
     "execution_count": 9,
     "metadata": {},
     "output_type": "execute_result"
    }
   ],
   "source": [
    "#Count of null values in data\n",
    "missing_values_count = np.sum(data.isnull())\n",
    "missing_values_count"
   ]
  },
  {
   "cell_type": "code",
   "execution_count": 10,
   "metadata": {},
   "outputs": [],
   "source": [
    "#Calculating the pecentage of null values in the datset"
   ]
  },
  {
   "cell_type": "markdown",
   "metadata": {},
   "source": [
    "If the data has more than 20% missing values, we can drop such columns"
   ]
  },
  {
   "cell_type": "code",
   "execution_count": 11,
   "metadata": {},
   "outputs": [
    {
     "name": "stdout",
     "output_type": "stream",
     "text": [
      "The Percentage of missing values in the dataset is: 1.43\n"
     ]
    }
   ],
   "source": [
    "total_cells = np.product(data.shape)\n",
    "total_missing_cells =  missing_values_count.sum()\n",
    "\n",
    "#calculating the percentage of missing values\n",
    "percentage_missing = np.round((total_missing_cells / total_cells) * 100, 2)\n",
    "print(\"The Percentage of missing values in the dataset is:\", percentage_missing) "
   ]
  },
  {
   "cell_type": "markdown",
   "metadata": {},
   "source": [
    "We can drop the rows that have null values and since reviews_per_month has a large number of null values (8736), we can replace the null values with the median value of the column"
   ]
  },
  {
   "cell_type": "code",
   "execution_count": 12,
   "metadata": {},
   "outputs": [],
   "source": [
    "#Replacing the null values with the median for reviews_per_month column\n",
    "data[\"reviews_per_month\"] = data.reviews_per_month.fillna(data.reviews_per_month.median())"
   ]
  },
  {
   "cell_type": "code",
   "execution_count": 13,
   "metadata": {},
   "outputs": [],
   "source": [
    "#Dropping the rows that have even 1 null value for any column\n",
    "cleaned_data = data.dropna(axis=0, how=\"any\")"
   ]
  },
  {
   "cell_type": "code",
   "execution_count": 14,
   "metadata": {},
   "outputs": [
    {
     "data": {
      "text/plain": [
       "0.78"
      ]
     },
     "execution_count": 14,
     "metadata": {},
     "output_type": "execute_result"
    }
   ],
   "source": [
    "#Calculating percentage of rows that were dropped to validate that it will not affect the data analysis\n",
    "no_droped_rows = len(data)-len(cleaned_data)\n",
    "percentage_dropped_rows = round((no_droped_rows/42638)*100,2)\n",
    "percentage_dropped_rows"
   ]
  },
  {
   "cell_type": "code",
   "execution_count": 15,
   "metadata": {},
   "outputs": [
    {
     "data": {
      "text/plain": [
       "id                                0\n",
       "name                              0\n",
       "host_id                           0\n",
       "host_name                         0\n",
       "borough                           0\n",
       "neighbourhood                     0\n",
       "latitude                          0\n",
       "longitude                         0\n",
       "room_type                         0\n",
       "price                             0\n",
       "minimum_nights                    0\n",
       "number_of_reviews                 0\n",
       "reviews_per_month                 0\n",
       "calculated_host_listings_count    0\n",
       "availability_365                  0\n",
       "dtype: int64"
      ]
     },
     "execution_count": 15,
     "metadata": {},
     "output_type": "execute_result"
    }
   ],
   "source": [
    "#Verifying the cleaned data has no missing values\n",
    "np.sum(cleaned_data.isnull()) "
   ]
  },
  {
   "cell_type": "code",
   "execution_count": 16,
   "metadata": {},
   "outputs": [
    {
     "data": {
      "text/plain": [
       "count    42305.000000\n",
       "mean       148.625316\n",
       "std        236.469264\n",
       "min          0.000000\n",
       "25%         65.000000\n",
       "50%        100.000000\n",
       "75%        174.000000\n",
       "max      10000.000000\n",
       "Name: price, dtype: float64"
      ]
     },
     "execution_count": 16,
     "metadata": {},
     "output_type": "execute_result"
    }
   ],
   "source": [
    "#Since Price column is one of the key columns in making business insights, let us have a look at it\n",
    "cleaned_data.price.describe()"
   ]
  },
  {
   "cell_type": "markdown",
   "metadata": {},
   "source": [
    "**Note:** We can observe that the minimum price is 0 which is cannot be true in real time. This value can affect the analysis and calculations performed on this column. Hence, we need to remove / exclude the rows that have price has 0"
   ]
  },
  {
   "cell_type": "code",
   "execution_count": 17,
   "metadata": {},
   "outputs": [],
   "source": [
    "#Excluding prices in data that are equal to 0\n",
    "df = cleaned_data[cleaned_data[\"price\"] != 0]"
   ]
  },
  {
   "cell_type": "code",
   "execution_count": 18,
   "metadata": {},
   "outputs": [
    {
     "data": {
      "text/html": [
       "<div>\n",
       "<style scoped>\n",
       "    .dataframe tbody tr th:only-of-type {\n",
       "        vertical-align: middle;\n",
       "    }\n",
       "\n",
       "    .dataframe tbody tr th {\n",
       "        vertical-align: top;\n",
       "    }\n",
       "\n",
       "    .dataframe thead th {\n",
       "        text-align: right;\n",
       "    }\n",
       "</style>\n",
       "<table border=\"1\" class=\"dataframe\">\n",
       "  <thead>\n",
       "    <tr style=\"text-align: right;\">\n",
       "      <th></th>\n",
       "      <th>id</th>\n",
       "      <th>name</th>\n",
       "      <th>host_id</th>\n",
       "      <th>host_name</th>\n",
       "      <th>borough</th>\n",
       "      <th>neighbourhood</th>\n",
       "      <th>latitude</th>\n",
       "      <th>longitude</th>\n",
       "      <th>room_type</th>\n",
       "      <th>price</th>\n",
       "      <th>minimum_nights</th>\n",
       "      <th>number_of_reviews</th>\n",
       "      <th>reviews_per_month</th>\n",
       "      <th>calculated_host_listings_count</th>\n",
       "      <th>availability_365</th>\n",
       "    </tr>\n",
       "  </thead>\n",
       "  <tbody>\n",
       "    <tr>\n",
       "      <th>0</th>\n",
       "      <td>2539</td>\n",
       "      <td>Clean &amp; quiet apt home by the park</td>\n",
       "      <td>2787</td>\n",
       "      <td>John</td>\n",
       "      <td>Brooklyn</td>\n",
       "      <td>kensington</td>\n",
       "      <td>40.64749</td>\n",
       "      <td>-73.97237</td>\n",
       "      <td>Private room</td>\n",
       "      <td>149.0</td>\n",
       "      <td>1.0</td>\n",
       "      <td>9.0</td>\n",
       "      <td>0.21</td>\n",
       "      <td>6.0</td>\n",
       "      <td>365.0</td>\n",
       "    </tr>\n",
       "    <tr>\n",
       "      <th>3</th>\n",
       "      <td>3831</td>\n",
       "      <td>Cozy Entire Floor of Brownstone</td>\n",
       "      <td>4869</td>\n",
       "      <td>LisaRoxanne</td>\n",
       "      <td>Brooklyn</td>\n",
       "      <td>clinton hill</td>\n",
       "      <td>40.68514</td>\n",
       "      <td>-73.95976</td>\n",
       "      <td>Entire home/apt</td>\n",
       "      <td>89.0</td>\n",
       "      <td>1.0</td>\n",
       "      <td>270.0</td>\n",
       "      <td>4.64</td>\n",
       "      <td>1.0</td>\n",
       "      <td>194.0</td>\n",
       "    </tr>\n",
       "    <tr>\n",
       "      <th>4</th>\n",
       "      <td>5099</td>\n",
       "      <td>Large Cozy 1 BR Apartment In Midtown East</td>\n",
       "      <td>7322</td>\n",
       "      <td>Chris</td>\n",
       "      <td>Manhattan</td>\n",
       "      <td>murray hill</td>\n",
       "      <td>40.74767</td>\n",
       "      <td>-73.97500</td>\n",
       "      <td>Entire home/apt</td>\n",
       "      <td>200.0</td>\n",
       "      <td>3.0</td>\n",
       "      <td>74.0</td>\n",
       "      <td>0.59</td>\n",
       "      <td>1.0</td>\n",
       "      <td>129.0</td>\n",
       "    </tr>\n",
       "    <tr>\n",
       "      <th>7</th>\n",
       "      <td>5295</td>\n",
       "      <td>Beautiful 1br on Upper West Side</td>\n",
       "      <td>7702</td>\n",
       "      <td>Lena</td>\n",
       "      <td>Manhattan</td>\n",
       "      <td>upper west side</td>\n",
       "      <td>40.80316</td>\n",
       "      <td>-73.96545</td>\n",
       "      <td>Entire home/apt</td>\n",
       "      <td>135.0</td>\n",
       "      <td>5.0</td>\n",
       "      <td>53.0</td>\n",
       "      <td>0.43</td>\n",
       "      <td>1.0</td>\n",
       "      <td>6.0</td>\n",
       "    </tr>\n",
       "    <tr>\n",
       "      <th>8</th>\n",
       "      <td>5803</td>\n",
       "      <td>Lovely Room 1, Garden, Best Area, Legal rental</td>\n",
       "      <td>9744</td>\n",
       "      <td>Laurie</td>\n",
       "      <td>Brooklyn</td>\n",
       "      <td>south slope</td>\n",
       "      <td>40.66829</td>\n",
       "      <td>-73.98779</td>\n",
       "      <td>Private room</td>\n",
       "      <td>89.0</td>\n",
       "      <td>4.0</td>\n",
       "      <td>167.0</td>\n",
       "      <td>1.34</td>\n",
       "      <td>3.0</td>\n",
       "      <td>314.0</td>\n",
       "    </tr>\n",
       "  </tbody>\n",
       "</table>\n",
       "</div>"
      ],
      "text/plain": [
       "     id                                            name  host_id    host_name  \\\n",
       "0  2539              Clean & quiet apt home by the park     2787         John   \n",
       "3  3831                 Cozy Entire Floor of Brownstone     4869  LisaRoxanne   \n",
       "4  5099       Large Cozy 1 BR Apartment In Midtown East     7322        Chris   \n",
       "7  5295                Beautiful 1br on Upper West Side     7702         Lena   \n",
       "8  5803  Lovely Room 1, Garden, Best Area, Legal rental     9744       Laurie   \n",
       "\n",
       "     borough    neighbourhood  latitude  longitude        room_type  price  \\\n",
       "0   Brooklyn       kensington  40.64749  -73.97237     Private room  149.0   \n",
       "3   Brooklyn     clinton hill  40.68514  -73.95976  Entire home/apt   89.0   \n",
       "4  Manhattan      murray hill  40.74767  -73.97500  Entire home/apt  200.0   \n",
       "7  Manhattan  upper west side  40.80316  -73.96545  Entire home/apt  135.0   \n",
       "8   Brooklyn      south slope  40.66829  -73.98779     Private room   89.0   \n",
       "\n",
       "   minimum_nights  number_of_reviews  reviews_per_month  \\\n",
       "0             1.0                9.0               0.21   \n",
       "3             1.0              270.0               4.64   \n",
       "4             3.0               74.0               0.59   \n",
       "7             5.0               53.0               0.43   \n",
       "8             4.0              167.0               1.34   \n",
       "\n",
       "   calculated_host_listings_count  availability_365  \n",
       "0                             6.0             365.0  \n",
       "3                             1.0             194.0  \n",
       "4                             1.0             129.0  \n",
       "7                             1.0               6.0  \n",
       "8                             3.0             314.0  "
      ]
     },
     "execution_count": 18,
     "metadata": {},
     "output_type": "execute_result"
    }
   ],
   "source": [
    "df.head()"
   ]
  },
  {
   "cell_type": "code",
   "execution_count": 19,
   "metadata": {},
   "outputs": [
    {
     "data": {
      "text/plain": [
       "count    42295.000000\n",
       "mean       148.660456\n",
       "std        236.486173\n",
       "min         10.000000\n",
       "25%         65.000000\n",
       "50%        100.000000\n",
       "75%        174.500000\n",
       "max      10000.000000\n",
       "Name: price, dtype: float64"
      ]
     },
     "execution_count": 19,
     "metadata": {},
     "output_type": "execute_result"
    }
   ],
   "source": [
    "#Verifying that 0 is no more the minimum price of any AirBnb\n",
    "df.price.describe()"
   ]
  },
  {
   "cell_type": "code",
   "execution_count": 20,
   "metadata": {},
   "outputs": [
    {
     "data": {
      "text/plain": [
       "Brooklyn         19179\n",
       "Manhattan        16858\n",
       "Queens            5150\n",
       "Bronx              686\n",
       "Staten Island      339\n",
       "Queen               63\n",
       "Brookly              9\n",
       "Manhatteen           5\n",
       "Manhattn             4\n",
       "Mahattan             2\n",
       "Name: borough, dtype: int64"
      ]
     },
     "execution_count": 20,
     "metadata": {},
     "output_type": "execute_result"
    }
   ],
   "source": [
    "df.borough.value_counts()"
   ]
  },
  {
   "cell_type": "markdown",
   "metadata": {},
   "source": [
    "We can observe that Manhattan, Brooklyn AND Queens are mis-spelled and the values need to be corrected and combined"
   ]
  },
  {
   "cell_type": "code",
   "execution_count": 21,
   "metadata": {},
   "outputs": [],
   "source": [
    "df = df.replace(to_replace={\"borough\" : {\"Manhatteen\" : \"Manhattan\",\"Manhattn\": \"Manhattan\" , \"Mahattan\": \"Manhattan\" , \"Queen\" : \"Queens\" , \"Brookly\" : \"Brooklyn\" }})"
   ]
  },
  {
   "cell_type": "code",
   "execution_count": 22,
   "metadata": {},
   "outputs": [
    {
     "data": {
      "text/plain": [
       "Brooklyn         19188\n",
       "Manhattan        16869\n",
       "Queens            5213\n",
       "Bronx              686\n",
       "Staten Island      339\n",
       "Name: borough, dtype: int64"
      ]
     },
     "execution_count": 22,
     "metadata": {},
     "output_type": "execute_result"
    }
   ],
   "source": [
    "df.borough.value_counts()"
   ]
  },
  {
   "cell_type": "markdown",
   "metadata": {},
   "source": [
    "***Checkpoint:*** We have obtained a list of only 5 boroughs in NYC and the rows have been combined to the correct spelling value. "
   ]
  },
  {
   "cell_type": "code",
   "execution_count": 23,
   "metadata": {
    "scrolled": true
   },
   "outputs": [
    {
     "data": {
      "text/plain": [
       "williamsburg          3878\n",
       "bedford-stuyvesant    3668\n",
       "harlem                2639\n",
       "bushwick              2440\n",
       "upper west side       1954\n",
       "east village          1840\n",
       "upper east side       1784\n",
       "crown heights         1551\n",
       "midtown               1534\n",
       "chelsea               1103\n",
       "greenpoint            1099\n",
       "lower east side        904\n",
       "astoria                896\n",
       "washington heights     895\n",
       "financial district     741\n",
       "flatbush               615\n",
       "clinton hill           566\n",
       "long island city       534\n",
       "park slope             499\n",
       "east flatbush          494\n",
       "fort greene            483\n",
       "murray hill            478\n",
       "kips bay               469\n",
       "ridgewood              423\n",
       "flushing               420\n",
       "greenwich village      389\n",
       "sunset park            382\n",
       "chinatown              362\n",
       "sunnyside              362\n",
       "soho                   357\n",
       "                      ... \n",
       "douglaston               7\n",
       "baychester               7\n",
       "shore acres              7\n",
       "tottenville              7\n",
       "mount eden               6\n",
       "bay terrace              6\n",
       "midland beach            6\n",
       "bull's head              6\n",
       "grant city               6\n",
       "dongan hills             6\n",
       "oakwood                  5\n",
       "little neck              5\n",
       "new brighton             5\n",
       "emerson hill             5\n",
       "new dorp beach           5\n",
       "holliswood               4\n",
       "prince's bay             4\n",
       "mill basin               4\n",
       "castleton corners        4\n",
       "todt hill                4\n",
       "arden heights            4\n",
       "eltingville              3\n",
       "neponsit                 3\n",
       "huguenot                 3\n",
       "co-op city               2\n",
       "silver lake              2\n",
       "westerleigh              2\n",
       "rossville                1\n",
       "richmondtown             1\n",
       "willowbrook              1\n",
       "Name: neighbourhood, Length: 170, dtype: int64"
      ]
     },
     "execution_count": 23,
     "metadata": {},
     "output_type": "execute_result"
    }
   ],
   "source": [
    "df.neighbourhood.value_counts()"
   ]
  },
  {
   "cell_type": "markdown",
   "metadata": {},
   "source": [
    "No need of any correction in the neighbourhood column"
   ]
  },
  {
   "cell_type": "markdown",
   "metadata": {},
   "source": [
    "## Handling Outliers in data"
   ]
  },
  {
   "cell_type": "markdown",
   "metadata": {},
   "source": [
    "#### Since our end goal is to analyze the real estate in NYC and to understand how expensive NYC can be, \"Price\" Column is going to be very important for our analysis"
   ]
  },
  {
   "cell_type": "markdown",
   "metadata": {},
   "source": [
    "Price is a key column in making any statistical based decision, let us analyze and observe the outliers. "
   ]
  },
  {
   "cell_type": "code",
   "execution_count": 24,
   "metadata": {},
   "outputs": [
    {
     "data": {
      "image/png": "[encoded data removed]",
      "text/plain": [
       "<Figure size 432x288 with 1 Axes>"
      ]
     },
     "metadata": {
      "needs_background": "light"
     },
     "output_type": "display_data"
    }
   ],
   "source": [
    "plt.boxplot(df.price)\n",
    "plt.show()"
   ]
  },
  {
   "cell_type": "code",
   "execution_count": 25,
   "metadata": {},
   "outputs": [
    {
     "data": {
      "text/plain": [
       "<matplotlib.axes._subplots.AxesSubplot at 0x19076c27828>"
      ]
     },
     "execution_count": 25,
     "metadata": {},
     "output_type": "execute_result"
    },
    {
     "data": {
      "image/png": "[encoded data removed]",
      "text/plain": [
       "<Figure size 432x288 with 1 Axes>"
      ]
     },
     "metadata": {
      "needs_background": "light"
     },
     "output_type": "display_data"
    }
   ],
   "source": [
    "sns.boxplot(df['price'])"
   ]
  },
  {
   "cell_type": "markdown",
   "metadata": {},
   "source": [
    "At a glance, there are many outliers and the boxplot is not clear. Let us calculate the outliers to understand better"
   ]
  },
  {
   "cell_type": "markdown",
   "metadata": {},
   "source": [
    "Finding the Inter quartile range - IQR"
   ]
  },
  {
   "cell_type": "code",
   "execution_count": 26,
   "metadata": {},
   "outputs": [
    {
     "name": "stdout",
     "output_type": "stream",
     "text": [
      "Q3 is 174.50, Q1 is 65.00 and IQR is 109.50\n"
     ]
    }
   ],
   "source": [
    "percentile25 = df['price'].quantile(0.25)\n",
    "percentile75 = df['price'].quantile(0.75)\n",
    "iqr = percentile75-percentile25\n",
    "print(\"Q3 is %0.2f, Q1 is %0.2f and IQR is %0.2f\" %(percentile75, percentile25, iqr))"
   ]
  },
  {
   "cell_type": "markdown",
   "metadata": {},
   "source": [
    "Calculating the upper and lower limits"
   ]
  },
  {
   "cell_type": "code",
   "execution_count": 27,
   "metadata": {},
   "outputs": [
    {
     "name": "stdout",
     "output_type": "stream",
     "text": [
      "Upper limit for cutoff is 338.750 and the lower limit for cutoff is -99.250\n"
     ]
    }
   ],
   "source": [
    "upper_limit = percentile75 + 1.5 * iqr\n",
    "lower_limit = percentile25 - 1.5 * iqr\n",
    "print(\"Upper limit for cutoff is %0.3f and the lower limit for cutoff is %0.3f\" %(upper_limit, lower_limit))"
   ]
  },
  {
   "cell_type": "markdown",
   "metadata": {},
   "source": [
    "### Finding the outliers"
   ]
  },
  {
   "cell_type": "code",
   "execution_count": 28,
   "metadata": {},
   "outputs": [
    {
     "data": {
      "text/html": [
       "<div>\n",
       "<style scoped>\n",
       "    .dataframe tbody tr th:only-of-type {\n",
       "        vertical-align: middle;\n",
       "    }\n",
       "\n",
       "    .dataframe tbody tr th {\n",
       "        vertical-align: top;\n",
       "    }\n",
       "\n",
       "    .dataframe thead th {\n",
       "        text-align: right;\n",
       "    }\n",
       "</style>\n",
       "<table border=\"1\" class=\"dataframe\">\n",
       "  <thead>\n",
       "    <tr style=\"text-align: right;\">\n",
       "      <th></th>\n",
       "      <th>id</th>\n",
       "      <th>name</th>\n",
       "      <th>host_id</th>\n",
       "      <th>host_name</th>\n",
       "      <th>borough</th>\n",
       "      <th>neighbourhood</th>\n",
       "      <th>latitude</th>\n",
       "      <th>longitude</th>\n",
       "      <th>room_type</th>\n",
       "      <th>price</th>\n",
       "      <th>minimum_nights</th>\n",
       "      <th>number_of_reviews</th>\n",
       "      <th>reviews_per_month</th>\n",
       "      <th>calculated_host_listings_count</th>\n",
       "      <th>availability_365</th>\n",
       "    </tr>\n",
       "  </thead>\n",
       "  <tbody>\n",
       "  </tbody>\n",
       "</table>\n",
       "</div>"
      ],
      "text/plain": [
       "Empty DataFrame\n",
       "Columns: [id, name, host_id, host_name, borough, neighbourhood, latitude, longitude, room_type, price, minimum_nights, number_of_reviews, reviews_per_month, calculated_host_listings_count, availability_365]\n",
       "Index: []"
      ]
     },
     "execution_count": 28,
     "metadata": {},
     "output_type": "execute_result"
    }
   ],
   "source": [
    "df[df['price'] > upper_limit]\n",
    "df[df['price'] < lower_limit]"
   ]
  },
  {
   "cell_type": "markdown",
   "metadata": {},
   "source": [
    "#### We will be using 2 methods to remove outliers. \n",
    "1. Trimming\n",
    "\n",
    "2. Capping"
   ]
  },
  {
   "cell_type": "markdown",
   "metadata": {},
   "source": [
    "### Trimming:  It excludes the outlier values from our analysis.The data becomes thin when there are more outliers present in the dataset."
   ]
  },
  {
   "cell_type": "code",
   "execution_count": 29,
   "metadata": {},
   "outputs": [
    {
     "data": {
      "text/plain": [
       "(39879, 15)"
      ]
     },
     "execution_count": 29,
     "metadata": {},
     "output_type": "execute_result"
    }
   ],
   "source": [
    "new_df = df[df['price'] < upper_limit]\n",
    "new_df.shape"
   ]
  },
  {
   "cell_type": "markdown",
   "metadata": {},
   "source": [
    "#### Comparing the plots after trimming"
   ]
  },
  {
   "cell_type": "code",
   "execution_count": 30,
   "metadata": {},
   "outputs": [
    {
     "data": {
      "image/png": "[encoded data removed]",
      "text/plain": [
       "<Figure size 1152x576 with 4 Axes>"
      ]
     },
     "metadata": {
      "needs_background": "light"
     },
     "output_type": "display_data"
    }
   ],
   "source": [
    "plt.figure(figsize=(16,8))\n",
    "plt.subplot(2,2,1)\n",
    "sns.distplot(df['price'])\n",
    "plt.subplot(2,2,2)\n",
    "sns.boxplot(df['price'])\n",
    "plt.subplot(2,2,3)\n",
    "sns.distplot(new_df['price'])\n",
    "plt.subplot(2,2,4)\n",
    "sns.boxplot(new_df['price'])\n",
    "plt.show()"
   ]
  },
  {
   "cell_type": "markdown",
   "metadata": {},
   "source": [
    "We can observe the drastic trimming of outliers from our data range."
   ]
  },
  {
   "cell_type": "markdown",
   "metadata": {},
   "source": [
    "### Capping: we cap our outliers data and make the limit, above a particular value or less than that value, all the values will be considered as outliers, and the number of outliers in the dataset gives that capping number."
   ]
  },
  {
   "cell_type": "code",
   "execution_count": 31,
   "metadata": {},
   "outputs": [],
   "source": [
    "new_df_cap = df.copy()\n",
    "new_df_cap['price'] = np.where(\n",
    "    new_df_cap['price'] > upper_limit,\n",
    "    upper_limit,\n",
    "    np.where(\n",
    "        new_df_cap['price'] < lower_limit,\n",
    "        lower_limit,\n",
    "        new_df_cap['price']\n",
    "    )\n",
    ")"
   ]
  },
  {
   "cell_type": "markdown",
   "metadata": {},
   "source": [
    "#### Comparing the plots after capping"
   ]
  },
  {
   "cell_type": "code",
   "execution_count": 32,
   "metadata": {},
   "outputs": [
    {
     "data": {
      "image/png": "[encoded data removed]",
      "text/plain": [
       "<Figure size 1152x576 with 4 Axes>"
      ]
     },
     "metadata": {
      "needs_background": "light"
     },
     "output_type": "display_data"
    }
   ],
   "source": [
    "plt.figure(figsize=(16,8))\n",
    "plt.subplot(2,2,1)\n",
    "sns.distplot(df['price'])\n",
    "plt.subplot(2,2,2)\n",
    "sns.boxplot(df['price'])\n",
    "plt.subplot(2,2,3)\n",
    "sns.distplot(new_df_cap['price'])\n",
    "plt.subplot(2,2,4)\n",
    "sns.boxplot(new_df_cap['price'])\n",
    "plt.show()"
   ]
  },
  {
   "cell_type": "markdown",
   "metadata": {},
   "source": [
    "The plot above indicates that all outliers have been removed from our price data and the new data obtained now is more useful to analyse pricing in NYC on an average."
   ]
  },
  {
   "cell_type": "markdown",
   "metadata": {},
   "source": [
    "## Data Visualization"
   ]
  },
  {
   "cell_type": "markdown",
   "metadata": {},
   "source": [
    "***Q1. Which boroughs and neighbourhoods have the greatest residential housing stock?***\n",
    "\n",
    "\n",
    "Housing stock :  the total number of houses and apartments in an area.\n"
   ]
  },
  {
   "cell_type": "code",
   "execution_count": 33,
   "metadata": {},
   "outputs": [
    {
     "data": {
      "text/plain": [
       "borough\n",
       "Brooklyn         18534\n",
       "Manhattan        15218\n",
       "Queens            5121\n",
       "Bronx              672\n",
       "Staten Island      334\n",
       "Name: name, dtype: int64"
      ]
     },
     "execution_count": 33,
     "metadata": {},
     "output_type": "execute_result"
    }
   ],
   "source": [
    "listings_boroughs = new_df.groupby('borough')['name'].count().sort_values(ascending = False)\n",
    "listings_boroughs"
   ]
  },
  {
   "cell_type": "code",
   "execution_count": 34,
   "metadata": {},
   "outputs": [
    {
     "data": {
      "text/plain": [
       "Text(0, 0.5, 'Count / Housing stock')"
      ]
     },
     "execution_count": 34,
     "metadata": {},
     "output_type": "execute_result"
    },
    {
     "data": {
      "image/png": "[encoded data removed]",
      "text/plain": [
       "<Figure size 720x576 with 1 Axes>"
      ]
     },
     "metadata": {
      "needs_background": "light"
     },
     "output_type": "display_data"
    }
   ],
   "source": [
    "#plotting\n",
    "listings_boroughs.plot(kind = 'bar', title = 'Residential housing stock by boroughs',  figsize=(10,8))\n",
    "plt.ylabel('Count / Housing stock')"
   ]
  },
  {
   "cell_type": "markdown",
   "metadata": {},
   "source": [
    "***Inference:*** : Brooklyn and Manhattan have the greatest residential stock in NYC"
   ]
  },
  {
   "cell_type": "code",
   "execution_count": 35,
   "metadata": {},
   "outputs": [
    {
     "data": {
      "text/plain": [
       "neighbourhood\n",
       "williamsburg          3691\n",
       "bedford-stuyvesant    3594\n",
       "harlem                2566\n",
       "bushwick              2413\n",
       "upper west side       1775\n",
       "east village          1702\n",
       "upper east side       1657\n",
       "crown heights         1508\n",
       "midtown               1138\n",
       "greenpoint            1054\n",
       "Name: name, dtype: int64"
      ]
     },
     "execution_count": 35,
     "metadata": {},
     "output_type": "execute_result"
    }
   ],
   "source": [
    "listings_neighbourhood = new_df.groupby('neighbourhood')['name'].count().nlargest(n=10).sort_values(ascending = False)\n",
    "listings_neighbourhood"
   ]
  },
  {
   "cell_type": "code",
   "execution_count": 36,
   "metadata": {},
   "outputs": [
    {
     "data": {
      "text/plain": [
       "Text(0, 0.5, 'Count / Housing stock')"
      ]
     },
     "execution_count": 36,
     "metadata": {},
     "output_type": "execute_result"
    },
    {
     "data": {
      "image/png": "[encoded data removed]",
      "text/plain": [
       "<Figure size 720x576 with 1 Axes>"
      ]
     },
     "metadata": {
      "needs_background": "light"
     },
     "output_type": "display_data"
    }
   ],
   "source": [
    "#plotting\n",
    "listings_neighbourhood.plot(kind = 'bar', title = 'Residential housing stock by neighbourhood',  figsize=(10,8))\n",
    "plt.ylabel('Count / Housing stock')"
   ]
  },
  {
   "cell_type": "markdown",
   "metadata": {},
   "source": [
    "***Inference***: Williamsburg and Vedford-Stuy have the greatest hosuing stock across all neighborhoods in NYC. Both are located in Brooklyn."
   ]
  },
  {
   "cell_type": "markdown",
   "metadata": {},
   "source": [
    "***Q2. How do prices vary among the boroughs? Which borough is the most expensive?***"
   ]
  },
  {
   "cell_type": "code",
   "execution_count": 37,
   "metadata": {},
   "outputs": [
    {
     "data": {
      "text/plain": [
       "borough\n",
       "Manhattan        130.0\n",
       "Brooklyn          90.0\n",
       "Staten Island     75.0\n",
       "Queens            70.0\n",
       "Bronx             65.0\n",
       "Name: price, dtype: float64"
      ]
     },
     "execution_count": 37,
     "metadata": {},
     "output_type": "execute_result"
    }
   ],
   "source": [
    "#Median Listing Price by borough\n",
    "median_listing_price = new_df.groupby('borough')['price'].agg('median').sort_values(ascending = False)\n",
    "np.round(median_listing_price, 2)"
   ]
  },
  {
   "cell_type": "code",
   "execution_count": 38,
   "metadata": {},
   "outputs": [
    {
     "data": {
      "text/plain": [
       "Text(0, 0.5, 'Lisitng Price (USD)')"
      ]
     },
     "execution_count": 38,
     "metadata": {},
     "output_type": "execute_result"
    },
    {
     "data": {
      "image/png": "[encoded data removed]",
      "text/plain": [
       "<Figure size 720x576 with 1 Axes>"
      ]
     },
     "metadata": {
      "needs_background": "light"
     },
     "output_type": "display_data"
    }
   ],
   "source": [
    "#Plotting median listing price\n",
    "median_listing_price.plot(kind='bar', title = \"Listing Price\", figsize=(10,8))\n",
    "plt.xlabel('Borough')\n",
    "plt.ylabel('Lisitng Price (USD)')"
   ]
  },
  {
   "cell_type": "code",
   "execution_count": 39,
   "metadata": {},
   "outputs": [
    {
     "data": {
      "text/plain": [
       "borough\n",
       "Manhattan        2188843.0\n",
       "Brooklyn         1962475.0\n",
       "Queens            451941.0\n",
       "Bronx              50222.0\n",
       "Staten Island      30061.0\n",
       "Name: price, dtype: float64"
      ]
     },
     "execution_count": 39,
     "metadata": {},
     "output_type": "execute_result"
    }
   ],
   "source": [
    "#Sum Listing Price by borough\n",
    "sum_listing_price = new_df.groupby('borough')['price'].agg('sum').sort_values(ascending = False)\n",
    "np.round(sum_listing_price, 2)"
   ]
  },
  {
   "cell_type": "markdown",
   "metadata": {},
   "source": [
    "***Inference***: Manhattan is the most expensive borough in NYC. Followed by Brooklyn. Bronx is the cheapest Neighborhood in NYC. The hosuing stock and prices seem to be less in Bronx."
   ]
  },
  {
   "cell_type": "markdown",
   "metadata": {},
   "source": [
    "**As most of the tourist locations and prime business centers are in Manhttan and Brooklyn, the real estate is going to be high in both these neighborhood groups.**"
   ]
  },
  {
   "cell_type": "markdown",
   "metadata": {},
   "source": [
    "***Q3.Which room type is the most common? Which room type will appeal to a traveler whose accommodation is paid for by their company?***"
   ]
  },
  {
   "cell_type": "code",
   "execution_count": 50,
   "metadata": {},
   "outputs": [
    {
     "data": {
      "text/plain": [
       "room_type\n",
       "Entire home/apt    19534\n",
       "Private room       19412\n",
       "Shared room          933\n",
       "Name: room_type, dtype: int64"
      ]
     },
     "execution_count": 50,
     "metadata": {},
     "output_type": "execute_result"
    }
   ],
   "source": [
    "count_room_type = new_df.groupby('room_type')['room_type'].count().sort_values(ascending = False)\n",
    "count_room_type"
   ]
  },
  {
   "cell_type": "code",
   "execution_count": 52,
   "metadata": {},
   "outputs": [
    {
     "data": {
      "image/png": "[encoded data removed]",
      "text/plain": [
       "<Figure size 720x576 with 1 Axes>"
      ]
     },
     "metadata": {
      "needs_background": "light"
     },
     "output_type": "display_data"
    }
   ],
   "source": [
    "#plotting\n",
    "count_room_type.plot(kind = 'bar', title = 'Most Common Room types',  figsize=(10,8))\n",
    "plt.ylabel('Room type count')\n",
    "plt.show()"
   ]
  },
  {
   "cell_type": "markdown",
   "metadata": {},
   "source": [
    "***Inference***: Entire home/apt. are the most common type of accomodation in NYC followed by Private rooms. Guests prefer privacy and comfort during traveling resulting in shared rooms to be the least preferred type of rooms."
   ]
  },
  {
   "cell_type": "code",
   "execution_count": 63,
   "metadata": {},
   "outputs": [
    {
     "data": {
      "text/plain": [
       "room_type        borough      \n",
       "Entire home/apt  Manhattan        179.25\n",
       "                 Brooklyn         149.05\n",
       "                 Queens           131.59\n",
       "                 Staten Island    123.01\n",
       "                 Bronx            110.86\n",
       "Private room     Manhattan         95.47\n",
       "Shared room      Manhattan         77.25\n",
       "Private room     Brooklyn          70.31\n",
       "                 Queens            65.36\n",
       "                 Staten Island     63.10\n",
       "Shared room      Staten Island     63.00\n",
       "Private room     Bronx             57.62\n",
       "Shared room      Brooklyn          47.76\n",
       "                 Queens            46.96\n",
       "                 Bronx             46.18\n",
       "Name: price, dtype: float64"
      ]
     },
     "execution_count": 63,
     "metadata": {},
     "output_type": "execute_result"
    }
   ],
   "source": [
    "#Pricing acroos diff. types of accomodation\n",
    "avg_price_room_type = new_df.groupby(['room_type','borough'])['price'].agg('mean').sort_values(ascending = False)\n",
    "np.round(avg_price_room_type, 2)"
   ]
  },
  {
   "cell_type": "code",
   "execution_count": 60,
   "metadata": {},
   "outputs": [
    {
     "data": {
      "text/plain": [
       "room_type        borough      \n",
       "Private room     Brooklyn         9656\n",
       "Entire home/apt  Manhattan        8853\n",
       "                 Brooklyn         8486\n",
       "Private room     Manhattan        6050\n",
       "                 Queens           3108\n",
       "Entire home/apt  Queens           1823\n",
       "Private room     Bronx             422\n",
       "Shared room      Brooklyn          392\n",
       "                 Manhattan         315\n",
       "Entire home/apt  Bronx             222\n",
       "Shared room      Queens            190\n",
       "Private room     Staten Island     176\n",
       "Entire home/apt  Staten Island     150\n",
       "Shared room      Bronx              28\n",
       "                 Staten Island       8\n",
       "Name: reviews_per_month, dtype: int64"
      ]
     },
     "execution_count": 60,
     "metadata": {},
     "output_type": "execute_result"
    }
   ],
   "source": [
    "#availability acroos diff. types of accomodation\n",
    "best_room_type_location = new_df.groupby(['room_type','borough'])['reviews_per_month'].agg('count').sort_values(ascending = False)\n",
    "np.round(best_room_type_location, 2)"
   ]
  },
  {
   "cell_type": "code",
   "execution_count": 62,
   "metadata": {},
   "outputs": [
    {
     "data": {
      "image/png": "[encoded data removed]",
      "text/plain": [
       "<Figure size 720x576 with 1 Axes>"
      ]
     },
     "metadata": {
      "needs_background": "light"
     },
     "output_type": "display_data"
    }
   ],
   "source": [
    "#plotting\n",
    "best_room_type_location.plot(kind = 'bar', title = 'Best accomodation across NYC for each room type',  figsize=(10,8))\n",
    "plt.ylabel('Room-type / Borough')\n",
    "plt.show()"
   ]
  },
  {
   "cell_type": "markdown",
   "metadata": {},
   "source": [
    "To decide best suited accomodation for a traveler whose acc. is paid by the company, following factors are considered: \n",
    "\n",
    "    1. Price\n",
    "    \n",
    "    2. Location\n",
    "    \n",
    "    3. Reviews\n",
    "    \n",
    "From the above 2 calculations, we can infer that -\n",
    "\n",
    "* private rooms in Brooklyn, private rooms and entire houses in Brooklyn and Manhattan have the maximum number of positive reviews. \n",
    "\n",
    "* Avg. cost of an entire house in Manhattan is ~180 dollars and in Brooklyn is 150.\n",
    "\n",
    "Both these neighborhood groups are close by to all business centers in NYC. \n",
    "\n",
    "**An entire house in Brooklyn is best for a working traveler as the location is good, and the price is not very expensive, most importanty as amazing reviews!!** \n",
    "\n",
    "**The traveler can cook his own food and can save money spent on travelling and food outside!!**\n",
    "\n",
    "Note: Since in the data it is not mentioned exclusively if the reviews are bad or good, we are going to assume these are the positive reviews for our analysis.\n",
    "    "
   ]
  },
  {
   "cell_type": "markdown",
   "metadata": {},
   "source": [
    "***Q4.Which borough/neighborhood generates the highest revenue as well as the highest revenue per unit (one unit is one listing)?***"
   ]
  },
  {
   "cell_type": "code",
   "execution_count": 68,
   "metadata": {},
   "outputs": [
    {
     "data": {
      "text/plain": [
       "borough\n",
       "Manhattan        2188843.0\n",
       "Brooklyn         1962475.0\n",
       "Queens            451941.0\n",
       "Bronx              50222.0\n",
       "Staten Island      30061.0\n",
       "Name: price, dtype: float64"
      ]
     },
     "execution_count": 68,
     "metadata": {},
     "output_type": "execute_result"
    }
   ],
   "source": [
    "revenue_borough = new_df.groupby('borough')['price'].agg('sum').sort_values(ascending = False)\n",
    "np.round(revenue_borough, 2)"
   ]
  },
  {
   "cell_type": "code",
   "execution_count": 74,
   "metadata": {},
   "outputs": [
    {
     "data": {
      "text/plain": [
       "borough    name                                              \n",
       "Queens     Hillside Hotel                                        2538.0\n",
       "Brooklyn   Loft Suite @ The Box House Hotel                      2189.0\n",
       "           Brooklyn Apartment                                    1140.0\n",
       "Manhattan  A CLASSIC NYC NEIGHBORHOOD-EAST 86TH/5TH AVENUE       1095.0\n",
       "           IN MINT CONDITION-STUDIOS EAST 44TH/UNITED NATIONS    1051.0\n",
       "Queens     Home away from home                                    909.0\n",
       "Brooklyn   Beautiful Brooklyn Brownstone                          835.0\n",
       "Manhattan  Sixth Ave Chelsea, 1bd Serviced Apartment              829.0\n",
       "Brooklyn   Loft Suite @ Box House Hotel                           796.0\n",
       "           Bushwick Oasis                                         754.0\n",
       "Name: price, dtype: float64"
      ]
     },
     "execution_count": 74,
     "metadata": {},
     "output_type": "execute_result"
    }
   ],
   "source": [
    "revenue_borough_listings = new_df.groupby(['borough','name'])['price'].agg('sum').nlargest(n=10).sort_values(ascending = False)\n",
    "np.round(revenue_borough_listings, 2)"
   ]
  },
  {
   "cell_type": "code",
   "execution_count": 75,
   "metadata": {},
   "outputs": [
    {
     "data": {
      "image/png": "[encoded data removed]",
      "text/plain": [
       "<Figure size 720x576 with 1 Axes>"
      ]
     },
     "metadata": {
      "needs_background": "light"
     },
     "output_type": "display_data"
    }
   ],
   "source": [
    "#plotting\n",
    "revenue_borough_listings.plot(kind = 'bar', title = 'Highest revenue per unit listing',  figsize=(10,8))\n",
    "plt.ylabel('Revenue')\n",
    "plt.show()"
   ]
  },
  {
   "cell_type": "markdown",
   "metadata": {},
   "source": [
    "***Hillside Hotel in Queens generates avg. revenue of 2538.0 dollars\n",
    "Loft Suite @ The Box House Hotel (2189.0) and Brooklyn Apartment(1140.0) in Brooklyn and\n",
    "A CLASSIC NYC NEIGHBORHOOD-EAST 86TH/5TH AVENUE(1095.0), IN MINT CONDITION-STUDIOS EAST 44TH/UNITED NATIONS(1051.0) in Manhattan Genrate the maximum avg. revenue in NYC***"
   ]
  },
  {
   "cell_type": "markdown",
   "metadata": {},
   "source": [
    "***Q5. How does availability differ among the boroughs?***"
   ]
  },
  {
   "cell_type": "code",
   "execution_count": 76,
   "metadata": {},
   "outputs": [
    {
     "data": {
      "image/png": "[encoded data removed]",
      "text/plain": [
       "<Figure size 936x504 with 1 Axes>"
      ]
     },
     "metadata": {
      "needs_background": "light"
     },
     "output_type": "display_data"
    }
   ],
   "source": [
    "plt.figure(figsize=(13,7))\n",
    "plt.title(\"Borough vs. Availability Room\")\n",
    "sns.boxplot(data=new_df, x='borough',y='availability_365')\n",
    "plt.show()"
   ]
  },
  {
   "cell_type": "markdown",
   "metadata": {},
   "source": [
    "***Bronx and Staten Island are the least preferred regions in NYC but are the most available neighborhoods.\n",
    "Further analysis can be done to identify the cause for this.\n",
    "The conditions for the properties can be improved and be made more profitable***\n"
   ]
  },
  {
   "cell_type": "markdown",
   "metadata": {},
   "source": [
    "***Since the demand for tourist locations like Manhattan and Brooklyn are more, availability is less as compared to Bronx and Staten Island***"
   ]
  },
  {
   "cell_type": "markdown",
   "metadata": {},
   "source": [
    "***Q6.Which boroughs should the company explore for expansion into the residential accommodation market in New York City? Why?***"
   ]
  },
  {
   "cell_type": "markdown",
   "metadata": {},
   "source": [
    "Factors the company should consider while expanding their business in NYC:\n",
    "\n",
    "1. Average cost the guest is willing to spend\n",
    "\n",
    "\n",
    "2. Locations to consider that are alreasy are guest's favourite\n",
    "\n",
    "\n",
    "3. Locations that have less positive reviews and can be improved.\n",
    "\n",
    "\n",
    "4. Reviews of the previous guests\n",
    "\n",
    "\n",
    "Inference: \n",
    "1. Manhattan and Brooklyn are the most expensive neighborhood groups in NYC. \n",
    "\n",
    "\n",
    "2. Guests mostly prefer entire rooms to themselves and hence the company should look into such properties.\n",
    "\n",
    "\n",
    "3. Since availabilty is more in Bronx and staten Island, these properties can be improved in order to increase revenue from them\n",
    "\n",
    "\n",
    "4. Brooklyn and Queens is more affordable and have good reviews. Therefore, for a traveler on a budget, properties in Brooklyn and Queens would be better and can be marketed accordingly. "
   ]
  },
  {
   "cell_type": "markdown",
   "metadata": {},
   "source": [
    "***Q7. Which hosts have more than one property up for rent? What is the maximum number of properties owned by one host?***"
   ]
  },
  {
   "cell_type": "code",
   "execution_count": 78,
   "metadata": {},
   "outputs": [
    {
     "data": {
      "text/plain": [
       "4261"
      ]
     },
     "execution_count": 78,
     "metadata": {},
     "output_type": "execute_result"
    }
   ],
   "source": [
    "host_value_counts_greater_than_1 = np.sum(new_df.host_id.value_counts() > 1)\n",
    "host_value_counts_greater_than_1"
   ]
  },
  {
   "cell_type": "markdown",
   "metadata": {},
   "source": [
    "4261 hosts have properties more than 1 in NYC"
   ]
  },
  {
   "cell_type": "code",
   "execution_count": 79,
   "metadata": {},
   "outputs": [
    {
     "data": {
      "text/plain": [
       "host_name\n",
       "Michael         337\n",
       "David           311\n",
       "Sonder (NYC)    233\n",
       "Alex            215\n",
       "John            205\n",
       "Sarah           204\n",
       "Daniel          195\n",
       "Maria           168\n",
       "Jessica         163\n",
       "Anna            156\n",
       "Name: name, dtype: int64"
      ]
     },
     "execution_count": 79,
     "metadata": {},
     "output_type": "execute_result"
    }
   ],
   "source": [
    "count_host_property = new_df.groupby('host_name')['name'].count().nlargest(n=10).sort_values(ascending = False)\n",
    "count_host_property"
   ]
  },
  {
   "cell_type": "code",
   "execution_count": 80,
   "metadata": {},
   "outputs": [
    {
     "data": {
      "text/plain": [
       "Text(0, 0.5, 'Number of properties')"
      ]
     },
     "execution_count": 80,
     "metadata": {},
     "output_type": "execute_result"
    },
    {
     "data": {
      "image/png": "[encoded data removed]",
      "text/plain": [
       "<Figure size 720x576 with 1 Axes>"
      ]
     },
     "metadata": {
      "needs_background": "light"
     },
     "output_type": "display_data"
    }
   ],
   "source": [
    "count_host_property.plot(kind = 'bar', title = 'Top 10 hosts who own maximum properties',  figsize=(10,8))\n",
    "plt.ylabel('Number of properties')"
   ]
  },
  {
   "cell_type": "markdown",
   "metadata": {},
   "source": [
    "Micheal has the maximum number of listings in NYC"
   ]
  },
  {
   "cell_type": "markdown",
   "metadata": {},
   "source": [
    "***Q8.How expensive is real estate in NYC? How does the price of a residential unit vary by neighbourhood?***"
   ]
  },
  {
   "attachments": {},
   "cell_type": "markdown",
   "metadata": {},
   "source": [
    "***NYC is the 6th most expensive city in the World!!!*** \n",
    "\n",
    "* Living in NYC is expensive, as it is known for its tourism, universities and businesses. A lot of revenue is generated from Manhattan and Brooklyn. An avg. of 1962,475 dollars is generated from these 2 locations alone!\n",
    "\n",
    "\n",
    "\n",
    "* There is a gradual price drop from Brooklyn to Queens, Staten Island and Bronx. Bronx is the cheapest neighborhood to stay in.\n",
    "\n",
    "\n",
    "\n",
    "* Queens is a much more affordable option!\n",
    "\n",
    "* On an avg. it would cost around 80-120 dollars for a guest to stay in a private room/entire house/apt. in mid range location.\n",
    "\n",
    "\n",
    "* The costliest accommodations can go above 300 dollars as well!!! \n",
    "\n",
    "\n",
    "* Let us see how prices vary in these listings."
   ]
  },
  {
   "cell_type": "markdown",
   "metadata": {},
   "source": [
    "***How do prices vary across neighborhoods***"
   ]
  },
  {
   "cell_type": "code",
   "execution_count": 82,
   "metadata": {},
   "outputs": [
    {
     "data": {
      "text/plain": [
       "neighbourhood\n",
       "mill basin            167.5\n",
       "chelsea               175.0\n",
       "greenwich village     175.0\n",
       "midtown               175.0\n",
       "murray hill           175.0\n",
       "financial district    189.0\n",
       "flatiron district     190.0\n",
       "tribeca               227.0\n",
       "neponsit              237.0\n",
       "willowbrook           249.0\n",
       "Name: price, dtype: float64"
      ]
     },
     "execution_count": 82,
     "metadata": {},
     "output_type": "execute_result"
    }
   ],
   "source": [
    "top_ten_neighborhoods = new_df.groupby('neighbourhood')['price'].agg('median').nlargest(n=10).sort_values(ascending = True)\n",
    "top_ten_neighborhoods"
   ]
  },
  {
   "cell_type": "code",
   "execution_count": 83,
   "metadata": {},
   "outputs": [
    {
     "data": {
      "text/plain": [
       "<matplotlib.axes._subplots.AxesSubplot at 0x1907c2d06a0>"
      ]
     },
     "execution_count": 83,
     "metadata": {},
     "output_type": "execute_result"
    },
    {
     "data": {
      "image/png": "[encoded data removed]",
      "text/plain": [
       "<Figure size 720x576 with 1 Axes>"
      ]
     },
     "metadata": {
      "needs_background": "light"
     },
     "output_type": "display_data"
    }
   ],
   "source": [
    "top_ten_neighborhoods.plot(kind = 'barh', title = 'Top Ten Neighborhoods Median Listing Price by Neighborhood', figsize=(10,8))\n"
   ]
  },
  {
   "cell_type": "code",
   "execution_count": 86,
   "metadata": {},
   "outputs": [
    {
     "data": {
      "text/plain": [
       "neighbourhood   borough      \n",
       "whitestone      Queens           47.0\n",
       "mount eden      Bronx            45.5\n",
       "bull's head     Staten Island    45.0\n",
       "van nest        Bronx            42.5\n",
       "tremont         Bronx            41.0\n",
       "new dorp beach  Staten Island    40.0\n",
       "hunts point     Bronx            40.0\n",
       "corona          Queens           40.0\n",
       "castle hill     Bronx            39.0\n",
       "concord         Staten Island    34.5\n",
       "Name: price, dtype: float64"
      ]
     },
     "execution_count": 86,
     "metadata": {},
     "output_type": "execute_result"
    }
   ],
   "source": [
    "bottom_ten_neighborhoods = new_df.groupby(['neighbourhood','borough'])['price'].agg('median').nsmallest(n=10).sort_values(ascending = False)\n",
    "bottom_ten_neighborhoods"
   ]
  },
  {
   "cell_type": "markdown",
   "metadata": {},
   "source": [
    "**The cheapest a guest can stay for is 34 dollars!!**"
   ]
  },
  {
   "cell_type": "code",
   "execution_count": 90,
   "metadata": {},
   "outputs": [
    {
     "data": {
      "text/plain": [
       "borough    name                                                                    \n",
       "Brooklyn   J&D Vacation Home                                                           335.0\n",
       "           Spacious + beautiful Garden apt in brick townhouse                          335.0\n",
       "           When modern renovation meets prewar details                                 335.0\n",
       "Manhattan  2 Bedroom in Upper West right next to Central Park                          335.0\n",
       "           Fabulous 2Bedroom/1.5Baths Duplex near Broadway                             335.0\n",
       "           Manhattan New York                                                          335.0\n",
       "           NYC High End 2BR Midtown West Apt                                           335.0\n",
       "Brooklyn   ★1800ft²/195m²★3-Levels★Deck★Walk Score 96★Office★                          336.0\n",
       "Manhattan  perfect apartment in New york with 3 bedrooms                               337.0\n",
       "           Premium Chelsea 1BR w/ Gym, W/D, Doorman, Sundeck, Cinema, by Blueground    338.0\n",
       "Name: price, dtype: float64"
      ]
     },
     "execution_count": 90,
     "metadata": {},
     "output_type": "execute_result"
    }
   ],
   "source": [
    "#Most expensive listings in NYC\n",
    "most_expensive_listings = new_df.groupby(['borough','name'])['price'].agg('mean').nlargest(n=10).sort_values(ascending = True)\n",
    "most_expensive_listings"
   ]
  },
  {
   "cell_type": "markdown",
   "metadata": {},
   "source": [
    "As expected, costliest listings are in Manhattan and Brooklyn."
   ]
  },
  {
   "cell_type": "markdown",
   "metadata": {},
   "source": [
    "## Exporting data to work on Tableau"
   ]
  },
  {
   "cell_type": "code",
   "execution_count": 48,
   "metadata": {},
   "outputs": [],
   "source": [
    "#new_df.to_csv(\"C:/Users/Dell/Documents/CalTech/NYCAirBnb/Cleaned_AirBnb_Data.csv\")"
   ]
  },
  {
   "cell_type": "markdown",
   "metadata": {},
   "source": [
    "## Conclusion:\n",
    "\n",
    "1. EDA was done using Python. Null values and missing values were replaced using median (for reviews).\n",
    "2. Price column had a lot of outliers which were removed using trimming and capping.\n",
    "3. The data was analysed and visualized to provide insights\n",
    "4. Tableau was used for data visualization\n",
    "5. Microsft PPT was used to present the above inferences to make meaningful decisions. "
   ]
  },
  {
   "cell_type": "markdown",
   "metadata": {},
   "source": [
    "# * Tableau Links: Dashboard is divided into 2 for more visibility.\n",
    "\n",
    "https://public.tableau.com/app/profile/ayesha.siddiqua2513/viz/PricingandRevenuegeneratedacrossneighborhoodsinNYC/PricingandRevenue\n",
    "\n",
    "\n",
    "https://public.tableau.com/app/profile/ayesha.siddiqua2513/viz/HousingstockandavailabilityandtypeofaccommodationsinNYC/Housingstocktypeandavailability\n",
    "\n"
   ]
  },
  {
   "cell_type": "markdown",
   "metadata": {},
   "source": [
    "### Note: presentation has been added to the folder separately."
   ]
  },
  {
   "cell_type": "markdown",
   "metadata": {},
   "source": [
    "### ---------------------------------------------------------- End-------------------------------------------------------------------- ###"
   ]
  },
  {
   "cell_type": "code",
   "execution_count": null,
   "metadata": {},
   "outputs": [],
   "source": []
  }
 ],
 "metadata": {
  "kernelspec": {
   "display_name": "Python 3",
   "language": "python",
   "name": "python3"
  },
  "language_info": {
   "codemirror_mode": {
    "name": "ipython",
    "version": 3
   },
   "file_extension": ".py",
   "mimetype": "text/x-python",
   "name": "python",
   "nbconvert_exporter": "python",
   "pygments_lexer": "ipython3",
   "version": "3.7.3"
  }
 },
 "nbformat": 4,
 "nbformat_minor": 2
}
